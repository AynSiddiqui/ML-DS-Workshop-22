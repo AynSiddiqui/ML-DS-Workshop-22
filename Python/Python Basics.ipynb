{
 "cells": [
  {
   "cell_type": "markdown",
   "id": "b14e2edc",
   "metadata": {},
   "source": [
    "## Python as a Language\n",
    "<hr>\n",
    "\n",
    "Python is a dynamic, high-level, free open source, and interpreted programming language.\n",
    "1. Free and Open source\n",
    "2. Easy to understand\n",
    "3. Python is an interpreted laguage"
   ]
  },
  {
   "cell_type": "markdown",
   "id": "7f4efc65",
   "metadata": {},
   "source": [
    "## Python Variable and Data types\n",
    "<hr>\n",
    "\n",
    "1. Text Type:\tstr \n",
    "2. Numeric Types:\tint, float, complex\n",
    "3. Sequence Types:\tlist, tuple, range\n",
    "4. Mapping Type:\tdict\n",
    "5. Set Types:\tset, frozenset\n",
    "6. Boolean Type:\tbool\n",
    "7. Binary Types:\tbytes, bytearray, memoryview\n",
    "8. None Type:\tNoneType"
   ]
  },
  {
   "cell_type": "markdown",
   "id": "293df820",
   "metadata": {},
   "source": [
    "### Variables\n",
    "\n",
    "In python we donot mention the data types in front of variables as opposed to other languages such as C++ , Java\n",
    "We simply assign the value to a variable\n",
    "\n",
    "It is always important to use variable names which are meaningful"
   ]
  },
  {
   "cell_type": "code",
   "execution_count": 4,
   "id": "cda2847e",
   "metadata": {},
   "outputs": [],
   "source": [
    "# integer\n",
    "x = 100\n",
    "\n",
    "# float\n",
    "y = 100.78\n",
    "\n",
    "\n",
    "# strings\n",
    "name = \"Hello\""
   ]
  },
  {
   "cell_type": "code",
   "execution_count": 5,
   "id": "f6fb1454",
   "metadata": {},
   "outputs": [
    {
     "name": "stdout",
     "output_type": "stream",
     "text": [
      "100\n",
      "100.78\n",
      "Hello\n"
     ]
    }
   ],
   "source": [
    "# The print function displays the content given to it\n",
    "\n",
    "print(x)\n",
    "print(y)\n",
    "print(name)"
   ]
  },
  {
   "cell_type": "code",
   "execution_count": 8,
   "id": "48b3bf28",
   "metadata": {},
   "outputs": [
    {
     "name": "stdout",
     "output_type": "stream",
     "text": [
      "200.78\n",
      "-0.7800000000000011\n",
      "10078.0\n",
      "0.9922603691208574\n",
      "3.630780547701032e+201\n",
      "0.0\n"
     ]
    }
   ],
   "source": [
    "# Basic operations\n",
    "print(x + y)        # addition\n",
    "\n",
    "dif = x - y         # difference\n",
    "print(dif)\n",
    "\n",
    "print(x*y)          # product\n",
    "print(x/y)          # division\n",
    "print(x**y)         # power\n",
    "print(x//y)"
   ]
  },
  {
   "cell_type": "markdown",
   "id": "2965e968",
   "metadata": {},
   "source": [
    "### Type Checking\n",
    "You can check the data type using the type function"
   ]
  },
  {
   "cell_type": "code",
   "execution_count": 9,
   "id": "5602b139",
   "metadata": {},
   "outputs": [
    {
     "name": "stdout",
     "output_type": "stream",
     "text": [
      "100 <class 'int'>\n",
      "100.78 <class 'float'>\n",
      "Hello <class 'str'>\n"
     ]
    }
   ],
   "source": [
    "print(x, type(x))\n",
    "print(y, type(y))\n",
    "print(name, type(name))"
   ]
  },
  {
   "cell_type": "markdown",
   "id": "d1d2eb76",
   "metadata": {},
   "source": [
    "## Strings\n",
    "String is one of the prominant data types in python.\n",
    "\n",
    "It can be declared using single, double and triple quotes."
   ]
  },
  {
   "cell_type": "code",
   "execution_count": 10,
   "id": "b510e9e5",
   "metadata": {},
   "outputs": [
    {
     "name": "stdout",
     "output_type": "stream",
     "text": [
      "Hello World\n",
      "Hi\n",
      "Hi \n",
      "        This is a workshop\n",
      "Print the 'quotes'\n"
     ]
    }
   ],
   "source": [
    "# strings using double, single and triple quotes\n",
    "str1 = \"Hello World\"\n",
    "str2 = 'Hi'\n",
    "str3 = '''Hi \n",
    "        This is a workshop'''\n",
    "str4 = \"Print the 'quotes'\"\n",
    "\n",
    "print(str1)\n",
    "print(str2)\n",
    "print(str3)\n",
    "print(str4)"
   ]
  },
  {
   "cell_type": "markdown",
   "id": "842e9d31",
   "metadata": {},
   "source": [
    "### String accessing and slicing\n",
    "Strings can be accessed using their indices and [] notation\n",
    "\n",
    "Remember indices start with 0 and go upto length -1"
   ]
  },
  {
   "cell_type": "code",
   "execution_count": 9,
   "id": "6c88567f",
   "metadata": {},
   "outputs": [
    {
     "name": "stdout",
     "output_type": "stream",
     "text": [
      "String under consideration is  Hello World\n",
      "First character in the string is  H\n",
      "Fifth character in the string is  o\n",
      "Hel\n",
      "Hello World\n",
      "Hello\n",
      "lo Wor\n"
     ]
    }
   ],
   "source": [
    "print(\"String under consideration is \", str1)\n",
    "\n",
    "print(\"First character in the string is \", str1[0])\n",
    "print(\"Fifth character in the string is \", str1[4])\n",
    "\n",
    "# slicing\n",
    "print(str1[0:3])\n",
    "print(str1[0:])\n",
    "print(str1[:5])\n",
    "\n",
    "# negative indices\n",
    "print(str1[3:-2])"
   ]
  },
  {
   "cell_type": "markdown",
   "id": "a5d27cfa",
   "metadata": {},
   "source": [
    "## Lists\n",
    "<hr>\n",
    "\n",
    "Lists are used to store multiple items in a single variable.\n",
    "\n",
    "Lists are one of 4 built-in data types in Python used to store collections of data, the other 3 are Tuple, Set, and Dictionary, all with different qualities and usage. Today we will be covering Lists, tuples and dictionaries.\n",
    "\n",
    "Lists are created using square brackets"
   ]
  },
  {
   "cell_type": "code",
   "execution_count": 14,
   "id": "f8bbe315",
   "metadata": {},
   "outputs": [
    {
     "name": "stdout",
     "output_type": "stream",
     "text": [
      "[1, 'Hi', 8.983, 'Hello']\n",
      "[2, 7.8, 0]\n",
      "[1, 'Hi', 8.983, 'Hello', 2, 7.8, 0]\n",
      "7.8\n",
      "['Hi']\n",
      "[0]\n",
      "['Hello', 8.983, 'Hi', 1]\n",
      "[1, 8.983]\n",
      "[1, 'Hi', 'Bye', 'Hello']\n"
     ]
    }
   ],
   "source": [
    "l1 = [1, 'Hi', 8.983, 'Hello']\n",
    "l2 = [2, 7.8, 0]\n",
    "\n",
    "print(l1)\n",
    "print(l2)\n",
    "print(l1+l2)\n",
    "\n",
    "print(l2[1])\n",
    "print(l1[1: 2])\n",
    "print(l2[-1:])\n",
    "\n",
    "# slicing\n",
    "\n",
    "print(l1[::-1])\n",
    "print(l1[0:3:2])\n",
    "\n",
    "# modifying lists\n",
    "l1[2] = \"Bye\"\n",
    "print(l1)"
   ]
  },
  {
   "cell_type": "markdown",
   "id": "50ee5df4",
   "metadata": {},
   "source": [
    "## Tuples\n",
    "<hr>\n",
    "\n",
    "Tuples are used to store multiple items in a single variable and are quite similar to lists\n",
    "A tuple is a collection which is ordered and unchangeable.\n",
    "Tuples are written with round brackets."
   ]
  },
  {
   "cell_type": "code",
   "execution_count": 15,
   "id": "66b0412c",
   "metadata": {},
   "outputs": [
    {
     "name": "stdout",
     "output_type": "stream",
     "text": [
      "(1, 2, 'hEllo', 7.88, 'Bye')\n",
      "(4, 5, 'abcdefg')\n",
      "<class 'tuple'>\n",
      "(1, 2, 'hEllo', 7.88, 'Bye', 4, 5, 'abcdefg')\n",
      "(2, 'hEllo', 7.88)\n"
     ]
    }
   ],
   "source": [
    "t1 = (1,2,\"hEllo\", 7.88,\"Bye\")\n",
    "t2 = (4,5,\"abcdefg\")\n",
    "\n",
    "print(t1)\n",
    "print(t2)\n",
    "print(type(t1))\n",
    "\n",
    "print(t1+t2)\n",
    "print(t1[1:4])"
   ]
  },
  {
   "cell_type": "markdown",
   "id": "f2e9a11d",
   "metadata": {},
   "source": [
    "## Dictionaries\n",
    "<hr>\n",
    "\n",
    "Python dictionaries work in keys value pairs. You can imagine them as a Hash Table.\n",
    "These dictionaries are enclosed in curly brackets {..}"
   ]
  },
  {
   "cell_type": "code",
   "execution_count": 11,
   "id": "96f7fdde",
   "metadata": {},
   "outputs": [
    {
     "name": "stdout",
     "output_type": "stream",
     "text": [
      "{'a': 1, 'b': 2, 3: 'three', 'key': 'value'}\n",
      "1\n",
      "value\n",
      "dict_keys(['a', 'b', 3, 'key'])\n",
      "dict_values([1, 2, 'three', 'value'])\n"
     ]
    }
   ],
   "source": [
    "d1 = {'a':1, 'b':2, 3: 'three', 'key': 'value'}\n",
    "\n",
    "print(d1)\n",
    "print(d1['a'])\n",
    "print(d1['key'])\n",
    "print(d1.keys())\n",
    "print(d1.values())"
   ]
  },
  {
   "cell_type": "markdown",
   "id": "eb4c185b",
   "metadata": {},
   "source": [
    "## Control Statements\n",
    "\n",
    "### Conditional Statements: If elif else\n",
    "\n",
    "Syntax:<br> \n",
    "if (condition):\n",
    "> statements\n",
    "\n",
    "elif (condition):\n",
    "> statements\n",
    "\n",
    ".\n",
    ".\n",
    ".\n",
    "\n",
    "elif (condition):\n",
    "> statements\n",
    "\n",
    "else:\n",
    "> statements"
   ]
  },
  {
   "cell_type": "code",
   "execution_count": 18,
   "id": "24546912",
   "metadata": {},
   "outputs": [
    {
     "name": "stdout",
     "output_type": "stream",
     "text": [
      "Good to go\n"
     ]
    }
   ],
   "source": [
    "age, threshold = 34, 18\n",
    "if(age == threshold):\n",
    "    print(\"Age equal to 18\")\n",
    "elif(age < threshold):\n",
    "    print(\"Under Age\")\n",
    "else:\n",
    "    print(\"Good to go\")"
   ]
  },
  {
   "cell_type": "markdown",
   "id": "d9336961",
   "metadata": {},
   "source": [
    "## Looping statements\n",
    "\n",
    "<ol>\n",
    "    <li>For (For in, For else)</li>\n",
    "    <li>While (while, while else)</li>\n",
    "</ol>\n",
    "\n",
    "Further we use control statements like break, continue, pass inside these loops\n",
    "1. Break: Used to move the control outside the loop\n",
    "2. Continue: Used to move the control to the next iteration\n",
    "3. Pass: Is used to write empty loops\n",
    "\n",
    "#### For loops\n",
    "Syntax <br>\n",
    "for var in structure:\n",
    "> statements\n",
    "\n",
    "<hr>\n",
    "\n",
    "for var in structure:\n",
    "> statements\n",
    "\n",
    "else:\n",
    "> statements"
   ]
  },
  {
   "cell_type": "code",
   "execution_count": 20,
   "id": "9cca88ea",
   "metadata": {},
   "outputs": [
    {
     "name": "stdout",
     "output_type": "stream",
     "text": [
      "1\n",
      "2\n",
      "3\n"
     ]
    }
   ],
   "source": [
    "a = [1,2,3,4,5]\n",
    "for i in a:\n",
    "    if(i==4):\n",
    "        break\n",
    "    print(i)"
   ]
  },
  {
   "cell_type": "code",
   "execution_count": 21,
   "id": "f484c149",
   "metadata": {},
   "outputs": [
    {
     "name": "stdout",
     "output_type": "stream",
     "text": [
      "Outside\n"
     ]
    }
   ],
   "source": [
    "for i in a:\n",
    "    pass\n",
    "print(\"Outside\")"
   ]
  },
  {
   "cell_type": "code",
   "execution_count": 22,
   "id": "33e44b06",
   "metadata": {},
   "outputs": [
    {
     "name": "stdout",
     "output_type": "stream",
     "text": [
      "1\n",
      "2\n",
      "3\n",
      "4\n",
      "5\n",
      "Over\n"
     ]
    }
   ],
   "source": [
    "for i in a:\n",
    "    print(i)\n",
    "else:\n",
    "    print(\"Over\")"
   ]
  },
  {
   "cell_type": "markdown",
   "id": "e49c0e68",
   "metadata": {},
   "source": [
    "#### While loops\n",
    "\n",
    "Syntax: <br>\n",
    "while condition:\n",
    "> statements\n",
    "\n",
    "<hr>\n",
    "\n",
    "while condition:\n",
    "> statements\n",
    "\n",
    "else:\n",
    "> statements"
   ]
  },
  {
   "cell_type": "code",
   "execution_count": 2,
   "id": "b597ae89",
   "metadata": {},
   "outputs": [
    {
     "name": "stdout",
     "output_type": "stream",
     "text": [
      "1\n",
      "2\n",
      "4\n",
      "5\n",
      "6\n"
     ]
    }
   ],
   "source": [
    "i = 0\n",
    "while i < 6:\n",
    "    i += 1\n",
    "    \n",
    "    if i == 3:\n",
    "        continue\n",
    "    print(i)"
   ]
  },
  {
   "cell_type": "code",
   "execution_count": 3,
   "id": "c89640ae",
   "metadata": {},
   "outputs": [
    {
     "name": "stdout",
     "output_type": "stream",
     "text": [
      "0\n",
      "1\n",
      "2\n",
      "3\n",
      "4\n",
      "Out of the loop\n"
     ]
    }
   ],
   "source": [
    "j = 0\n",
    "while j<5:\n",
    "    print(j)\n",
    "    j+=1\n",
    "else:\n",
    "    print(\"Out of the loop\")"
   ]
  },
  {
   "cell_type": "markdown",
   "id": "f20bb588",
   "metadata": {},
   "source": [
    "## List Comprehensions\n",
    "<hr>\n",
    "\n",
    "A Python list comprehension consists of brackets containing the expression, which is executed for each element along with the for loop to iterate over each element in the Python list. \n",
    "\n",
    "Python List comprehension provides a much more short syntax for creating a new list based on the values of an existing list.\n",
    "\n",
    "Syntax: <br>\n",
    "newList = [ expression(element) for element in oldList if condition ] "
   ]
  },
  {
   "cell_type": "code",
   "execution_count": 9,
   "id": "711d17ff",
   "metadata": {},
   "outputs": [
    {
     "name": "stdout",
     "output_type": "stream",
     "text": [
      "[1, 2, 3, 4, 5]\n",
      "[0, 2, 4, 6, 8]\n",
      "[1000, 2000, 3000, 4000]\n",
      "['H', 'e', 'l', 'l', 'o', ' ', 'w', 'o', 'r', 'l', 'd']\n",
      "['H', 'e', 'l', 'l', 'o', ' ', 'w', 'o', 'r', 'l', 'd']\n"
     ]
    }
   ],
   "source": [
    "newL1 = [z for z in (1,2,3,4,5)]\n",
    "print(newL)\n",
    "\n",
    "newL2 = [i for i in range(10) if i%2==0]\n",
    "print(newL2)\n",
    "\n",
    "newL3 = [i*100 for i in (10,20,30,40)]\n",
    "print(newL3)\n",
    "\n",
    "# comparison between for loops and list comprehension\n",
    "nm = \"Hello world\"\n",
    "ls = []\n",
    "for i in nm:\n",
    "    ls.append(i)\n",
    "\n",
    "ls2 = [i for i in nm]\n",
    "print(ls)\n",
    "print(ls2)"
   ]
  },
  {
   "cell_type": "markdown",
   "id": "6d2fe534",
   "metadata": {},
   "source": [
    "## Functions in Python\n",
    "<hr>\n",
    "\n",
    "Python Functions is a block of statements that return the specific task.\n",
    "\n",
    "The idea is to put some commonly or repeatedly done tasks together and make a function so that instead of writing the same code again and again for different inputs, we can do the function calls to reuse code contained in it over and over again. \n",
    "\n",
    "Syntax:\n",
    "\n",
    "> def function_name (Parameter list): <br>\n",
    "        >>body <br>\n",
    "        return statement <br>"
   ]
  },
  {
   "cell_type": "markdown",
   "id": "a7648728",
   "metadata": {},
   "source": [
    "### In built functions\n",
    "Python has a set of built in functions. You can use these functions by directly calling them."
   ]
  },
  {
   "cell_type": "code",
   "execution_count": 20,
   "id": "fdcc9793",
   "metadata": {},
   "outputs": [
    {
     "name": "stdout",
     "output_type": "stream",
     "text": [
      "Sum of the list =  15\n",
      "True\n",
      "0x22\n",
      "[1, 2, 3, 4]\n"
     ]
    }
   ],
   "source": [
    "a = [1,2,3,4,5]\n",
    "\n",
    "# Prints the sum of all the numbers present in the list\n",
    "print(\"Sum of the list = \",sum(a))\n",
    "\n",
    "# Returns true if all the elements in the iterable are true\n",
    "print(all(a))\n",
    "\n",
    "# Prints the hexadecimal equivalent of the decimal number\n",
    "print(hex(34))\n",
    "\n",
    "# Returns a sorted iterable\n",
    "print(sorted([3,2,4,1]))"
   ]
  },
  {
   "cell_type": "markdown",
   "id": "4d2e2685",
   "metadata": {},
   "source": [
    "### User Defined functions"
   ]
  },
  {
   "cell_type": "code",
   "execution_count": 12,
   "id": "ec823644",
   "metadata": {},
   "outputs": [
    {
     "name": "stdout",
     "output_type": "stream",
     "text": [
      "Hello world\n",
      "Hello world\n"
     ]
    }
   ],
   "source": [
    "# function definition and implementation\n",
    "def first():\n",
    "    print(\"Hello world\")\n",
    "\n",
    "# function calling\n",
    "first()\n",
    "first()"
   ]
  },
  {
   "cell_type": "code",
   "execution_count": 24,
   "id": "3071305c",
   "metadata": {},
   "outputs": [
    {
     "name": "stdout",
     "output_type": "stream",
     "text": [
      "9\n"
     ]
    }
   ],
   "source": [
    "def add(num1, num2):\n",
    "    '''Addition of 2 numbers'''\n",
    "    num3 = num1+num2\n",
    "    return num3\n",
    "\n",
    "print(add(4,5))"
   ]
  },
  {
   "cell_type": "code",
   "execution_count": 13,
   "id": "961d426c",
   "metadata": {},
   "outputs": [
    {
     "name": "stdout",
     "output_type": "stream",
     "text": [
      "[2, 4, 6, 8]\n",
      "[1, 3, 5, 7]\n"
     ]
    }
   ],
   "source": [
    "# function to seperate even and odd numbers in a list\n",
    "def sep(lst):\n",
    "    even = []\n",
    "    odd = []\n",
    "    for i in lst:\n",
    "        if i%2==0:\n",
    "            even.append(i)\n",
    "        else:\n",
    "            odd.append(i)\n",
    "    return even,odd\n",
    "\n",
    "\n",
    "lst = [1,2,3,4,5,6,7,8]\n",
    "e,o = sep(lst)\n",
    "print(e)\n",
    "print(o)"
   ]
  },
  {
   "cell_type": "markdown",
   "id": "f64c8dc6",
   "metadata": {},
   "source": [
    "## Object Oriented Concepts (Objects and Classes)\n",
    "<br>\n",
    "\n",
    "A class is a user-defined blueprint or prototype from which objects are created. Classes provide a means of bundling data and functionality together. So, a class contains variables(attributes) and methods(functions). The same variables and methods are also available in the objects because they are created from the class.\n",
    "\n",
    "Objects are instances of a class. An object is anything that really exists in the world and can be distinguished from others.\n",
    "It is possible that some objects may have similar behavior. Such objects belong to same category called a ‘class’.\n",
    "\n",
    "Objects can possess various attributes. Examples are no_of_wheels, no_of_pages, color, model_number, etc\n",
    "\n",
    "They can also possess various methods. Examples include: run(), eat(), drive(), etc\n",
    "\n",
    "Here's an intuitive example:\n",
    "![image](https://res.cloudinary.com/practicaldev/image/fetch/s--Z7gaICxN--/c_limit%2Cf_auto%2Cfl_progressive%2Cq_auto%2Cw_880/https://dev-to-uploads.s3.amazonaws.com/i/69esbt14hjr4yca0a1g2.png)\n",
    "\n",
    "Here the blueprint is the person class and we can create many objects (people) from this class. Each person object created will have his/her own attributes that is, Name, age, gender, occupation. All of these instances will have access to methods that are written in the Person class that is, walk, eat, aleep, work.\n",
    "\n",
    "A function written inside a class is called a method. Generally, a method is called using one of the following two ways:\n",
    "<ul>\n",
    "<li>classname.methodname()\n",
    "<li>instancename.methodname()\n",
    "</ul>\n",
    "\n",
    "<hr>"
   ]
  },
  {
   "cell_type": "markdown",
   "id": "e2c0f13e",
   "metadata": {},
   "source": [
    "General Syntax of a class\n",
    "<hr>\n",
    "\n",
    "```{.python}\n",
    "\n",
    "# class definition\n",
    "class Classname(object):       \n",
    "     \"\"\" docstring describing the class \"\"\"\n",
    "     #attributes\n",
    "\n",
    "     #constructor\n",
    "    def __init__(self):\n",
    "\n",
    "     #class methods/ functions\n",
    "    def method1():\n",
    "        # statements\n",
    "    def method2():\n",
    "        # statements\n",
    "        \n",
    "```"
   ]
  },
  {
   "cell_type": "code",
   "execution_count": 29,
   "id": "a66e4d06",
   "metadata": {},
   "outputs": [
    {
     "name": "stdout",
     "output_type": "stream",
     "text": [
      "Name =  abc\n",
      "Roll no =  1\n",
      "Name =  xyz\n",
      "Roll no =  2\n",
      "abc\n",
      "2\n",
      "False\n",
      "3046385501448\n",
      "3046385501512\n"
     ]
    }
   ],
   "source": [
    "class Student:\n",
    "    #rollno, name\n",
    "    \n",
    "    def __init__(self, roll, nm):\n",
    "        self.rollno = roll\n",
    "        self.name = nm\n",
    "    \n",
    "    def printdetails(self):\n",
    "        print(\"Name = \", self.name)\n",
    "        print(\"Roll no = \", self.rollno)\n",
    "\n",
    "s1 = Student(1,\"abc\")\n",
    "s2 = Student(2,\"xyz\")\n",
    "s1.printdetails()\n",
    "s2.printdetails()\n",
    "\n",
    "\n",
    "print(s1.name)\n",
    "print(s2.rollno)\n",
    "\n",
    "print(s1==s2)\n",
    "print(id(s1))\n",
    "print(id(s2))"
   ]
  },
  {
   "cell_type": "markdown",
   "id": "a1b5be2c",
   "metadata": {},
   "source": [
    "### Constructors\n",
    "\n",
    "Constructors are generally used for instantiating an object. The task of constructors is to initialize(assign values) to the data members of the class when an object of the class is created. In Python the __init__() method is called the constructor and is always called when an object is created.\n",
    "\n",
    "\n",
    "### Self keyword\n",
    "\n",
    "self represents the instance of the class. By using the “self”  we can access the attributes and methods of the class in python. It binds the attributes with the given arguments.\n",
    "The reason you need to use self. is because Python does not use the @ syntax to refer to instance attributes. Python decided to do methods in a way that makes the instance to which the method belongs be passed automatically, but not received automatically: the first parameter of methods is the instance the method is called on.\n",
    "Self is used to refer to the current object"
   ]
  },
  {
   "cell_type": "code",
   "execution_count": 35,
   "id": "4faa08c8",
   "metadata": {},
   "outputs": [],
   "source": [
    "class square:\n",
    "    '''\n",
    "    Square class\n",
    "    area and peri functions calculate the area and the perimeter respctively\n",
    "    '''\n",
    "    \n",
    "    def __init__(self, s):\n",
    "        self.side = s\n",
    "    \n",
    "    def area(self):\n",
    "        return self.side * self.side\n",
    "    \n",
    "    def peri(self):\n",
    "        return 4*self.side\n",
    "    \n",
    "    def prt(self):\n",
    "        print(\"Side = \", self.side)\n",
    "        print(\"Area = \", self.area())\n",
    "        print(\"Perimeter = \", self.peri())"
   ]
  },
  {
   "cell_type": "code",
   "execution_count": 33,
   "id": "20ca8b82",
   "metadata": {},
   "outputs": [
    {
     "name": "stdout",
     "output_type": "stream",
     "text": [
      "Side =  4\n",
      "Area =  16\n",
      "Perimeter =  16\n"
     ]
    }
   ],
   "source": [
    "sq1 = square(4)\n",
    "sq1.prt()"
   ]
  },
  {
   "cell_type": "code",
   "execution_count": 34,
   "id": "0be9a0c4",
   "metadata": {},
   "outputs": [
    {
     "name": "stdout",
     "output_type": "stream",
     "text": [
      "Side =  5\n",
      "Area =  25\n",
      "Perimeter =  20\n"
     ]
    }
   ],
   "source": [
    "sq1.side = 5\n",
    "sq1.prt()"
   ]
  },
  {
   "cell_type": "code",
   "execution_count": null,
   "id": "44bc3e6b",
   "metadata": {},
   "outputs": [],
   "source": []
  }
 ],
 "metadata": {
  "kernelspec": {
   "display_name": "Python 3 (ipykernel)",
   "language": "python",
   "name": "python3"
  },
  "language_info": {
   "codemirror_mode": {
    "name": "ipython",
    "version": 3
   },
   "file_extension": ".py",
   "mimetype": "text/x-python",
   "name": "python",
   "nbconvert_exporter": "python",
   "pygments_lexer": "ipython3",
   "version": "3.7.6"
  }
 },
 "nbformat": 4,
 "nbformat_minor": 5
}
